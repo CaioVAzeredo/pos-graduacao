{
  "nbformat": 4,
  "nbformat_minor": 0,
  "metadata": {
    "colab": {
      "provenance": []
    },
    "kernelspec": {
      "name": "python3",
      "display_name": "Python 3"
    },
    "language_info": {
      "name": "python"
    }
  },
  "cells": [
    {
      "cell_type": "markdown",
      "source": [
        "## O que é regressão logística\n",
        "\n",
        "Regressão logística pode ser definido como uma técnica estatística que busca produzir (usando um conjunto de observações) um modelo que possibilita predizer os valores tomados por uma variável categórica. Traduzindo isso pra uma linguagem mais simples, podemos dizer que a regressão logística é parecido com a regressão linear, no entanto, quando falamos de regressão linear o valor de Y assume um valor específico, já na regressão logística temos a variável Y assumindo um valor Binário (0 – fracasso / 1 – sucesso). Essa técnica é recomendada para situações onde a variável dependente é binária.\n",
        "\n",
        "Portanto, podemos concluir que Regressão Logística busca estimar a probabilidade da variável dependente assumir um determinado valor em função dos outros valores."
      ],
      "metadata": {
        "id": "8bAywV9Z7UTf"
      }
    },
    {
      "cell_type": "markdown",
      "source": [
        "## Quais são as vantagens de usar regressão logística?\n",
        "\n",
        "Existem algumas vantagens em usar esse tipo de regressão, entre elas:\n",
        "\n",
        "* Os resultados são mostrados em formato de probabilidade.\n",
        "* É bastante fácil classificar indivíduos em categorias.\n",
        "* Precisa apenas de um pequeno número de suposições para realizar as predições.\n",
        "* Possui um alto grau de confiabilidade dos resultados."
      ],
      "metadata": {
        "id": "z16-eAeOBHZm"
      }
    },
    {
      "cell_type": "markdown",
      "source": [
        "## Exemplos práticos de utilização da regressão logística\n",
        "\n",
        "Apesar de parecer algo muito inacessível, a regressão logística é bastante utilizada em ciências médicas e sociais. Podem existir também outros nomes: modelo logístico, modelo logit, ou classificador de máxima entropia.\n",
        "\n",
        "No campo da medicina é possível determinar determinar os conjunto de fatores que torna um grupo de indivíduos doentes quando comparamos com indivíduos saudáveis. Por exemplo, imagine que temos uma variável chamada (0 – saudável | 1 – doente), usando a regressão é possível analisar quais conjuntos de fatores (obesidade, tabagismo, genética, etc.) pode alterar essa variável.\n",
        "\n",
        "Agora imagine que você é dono de uma seguradora, seria bem interessante conseguir determinar quais são os fatores que mais influenciam no acontecimento de acidentes. Outra faceta desse problema acontece muito em instituições financeiras, com esse tipo de algoritmo você poderia detectar os grupos de risco para a subscrição de um crédito.\n",
        "\n",
        "![image.png](data:image/png;base64,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)"
      ],
      "metadata": {
        "id": "mUQ_XIU7BPoc"
      }
    },
    {
      "cell_type": "markdown",
      "source": [
        "## Exemplo de regressão logística em python\n",
        "\n",
        "Para mostrar um exemplo simples de como a regressão logística pode ser usada, vamos utilizar um dataset bastante pequeno. Abaixo, temos uma tabela mostrando se um aluno será admitido ou não em um programa de pós-graduação. Os parâmetros são notas da POSCOMP (0 – 100), pontuação em testes de inglês (0 – 10), número de artigos publicados (inteiros) e por fim se ele foi admitido (1) ou não (0)."
      ],
      "metadata": {
        "id": "sE4NeLkHBchN"
      }
    },
    {
      "cell_type": "code",
      "source": [
        "import pandas as pd\n",
        "from sklearn.model_selection import train_test_split\n",
        "from sklearn.linear_model import LogisticRegression\n",
        "from sklearn import metrics\n",
        "import seaborn as sn\n",
        "import matplotlib.pyplot as plt"
      ],
      "metadata": {
        "id": "QjRjqLCkB-kJ"
      },
      "execution_count": null,
      "outputs": []
    },
    {
      "cell_type": "code",
      "source": [
        "df = pd.read_excel('/content/dados.xlsx')\n",
        "df.head()"
      ],
      "metadata": {
        "colab": {
          "base_uri": "https://localhost:8080/",
          "height": 206
        },
        "id": "cOXsrJlTCW1P",
        "outputId": "3b7e6f63-257c-44f0-8c0c-e9419f3fd32a"
      },
      "execution_count": null,
      "outputs": [
        {
          "output_type": "execute_result",
          "data": {
            "text/plain": [
              "   POSCOMP  Inglês  Artigos publicados  Admitido\n",
              "0       89       8                   5         1\n",
              "1       39       5                   1         0\n",
              "2       40       2                   1         0\n",
              "3       14       1                   0         0\n",
              "4       26       4                   1         0"
            ],
            "text/html": [
              "\n",
              "  <div id=\"df-cc7ac402-77de-4868-804e-b46444c825f9\" class=\"colab-df-container\">\n",
              "    <div>\n",
              "<style scoped>\n",
              "    .dataframe tbody tr th:only-of-type {\n",
              "        vertical-align: middle;\n",
              "    }\n",
              "\n",
              "    .dataframe tbody tr th {\n",
              "        vertical-align: top;\n",
              "    }\n",
              "\n",
              "    .dataframe thead th {\n",
              "        text-align: right;\n",
              "    }\n",
              "</style>\n",
              "<table border=\"1\" class=\"dataframe\">\n",
              "  <thead>\n",
              "    <tr style=\"text-align: right;\">\n",
              "      <th></th>\n",
              "      <th>POSCOMP</th>\n",
              "      <th>Inglês</th>\n",
              "      <th>Artigos publicados</th>\n",
              "      <th>Admitido</th>\n",
              "    </tr>\n",
              "  </thead>\n",
              "  <tbody>\n",
              "    <tr>\n",
              "      <th>0</th>\n",
              "      <td>89</td>\n",
              "      <td>8</td>\n",
              "      <td>5</td>\n",
              "      <td>1</td>\n",
              "    </tr>\n",
              "    <tr>\n",
              "      <th>1</th>\n",
              "      <td>39</td>\n",
              "      <td>5</td>\n",
              "      <td>1</td>\n",
              "      <td>0</td>\n",
              "    </tr>\n",
              "    <tr>\n",
              "      <th>2</th>\n",
              "      <td>40</td>\n",
              "      <td>2</td>\n",
              "      <td>1</td>\n",
              "      <td>0</td>\n",
              "    </tr>\n",
              "    <tr>\n",
              "      <th>3</th>\n",
              "      <td>14</td>\n",
              "      <td>1</td>\n",
              "      <td>0</td>\n",
              "      <td>0</td>\n",
              "    </tr>\n",
              "    <tr>\n",
              "      <th>4</th>\n",
              "      <td>26</td>\n",
              "      <td>4</td>\n",
              "      <td>1</td>\n",
              "      <td>0</td>\n",
              "    </tr>\n",
              "  </tbody>\n",
              "</table>\n",
              "</div>\n",
              "    <div class=\"colab-df-buttons\">\n",
              "\n",
              "  <div class=\"colab-df-container\">\n",
              "    <button class=\"colab-df-convert\" onclick=\"convertToInteractive('df-cc7ac402-77de-4868-804e-b46444c825f9')\"\n",
              "            title=\"Convert this dataframe to an interactive table.\"\n",
              "            style=\"display:none;\">\n",
              "\n",
              "  <svg xmlns=\"http://www.w3.org/2000/svg\" height=\"24px\" viewBox=\"0 -960 960 960\">\n",
              "    <path d=\"M120-120v-720h720v720H120Zm60-500h600v-160H180v160Zm220 220h160v-160H400v160Zm0 220h160v-160H400v160ZM180-400h160v-160H180v160Zm440 0h160v-160H620v160ZM180-180h160v-160H180v160Zm440 0h160v-160H620v160Z\"/>\n",
              "  </svg>\n",
              "    </button>\n",
              "\n",
              "  <style>\n",
              "    .colab-df-container {\n",
              "      display:flex;\n",
              "      gap: 12px;\n",
              "    }\n",
              "\n",
              "    .colab-df-convert {\n",
              "      background-color: #E8F0FE;\n",
              "      border: none;\n",
              "      border-radius: 50%;\n",
              "      cursor: pointer;\n",
              "      display: none;\n",
              "      fill: #1967D2;\n",
              "      height: 32px;\n",
              "      padding: 0 0 0 0;\n",
              "      width: 32px;\n",
              "    }\n",
              "\n",
              "    .colab-df-convert:hover {\n",
              "      background-color: #E2EBFA;\n",
              "      box-shadow: 0px 1px 2px rgba(60, 64, 67, 0.3), 0px 1px 3px 1px rgba(60, 64, 67, 0.15);\n",
              "      fill: #174EA6;\n",
              "    }\n",
              "\n",
              "    .colab-df-buttons div {\n",
              "      margin-bottom: 4px;\n",
              "    }\n",
              "\n",
              "    [theme=dark] .colab-df-convert {\n",
              "      background-color: #3B4455;\n",
              "      fill: #D2E3FC;\n",
              "    }\n",
              "\n",
              "    [theme=dark] .colab-df-convert:hover {\n",
              "      background-color: #434B5C;\n",
              "      box-shadow: 0px 1px 3px 1px rgba(0, 0, 0, 0.15);\n",
              "      filter: drop-shadow(0px 1px 2px rgba(0, 0, 0, 0.3));\n",
              "      fill: #FFFFFF;\n",
              "    }\n",
              "  </style>\n",
              "\n",
              "    <script>\n",
              "      const buttonEl =\n",
              "        document.querySelector('#df-cc7ac402-77de-4868-804e-b46444c825f9 button.colab-df-convert');\n",
              "      buttonEl.style.display =\n",
              "        google.colab.kernel.accessAllowed ? 'block' : 'none';\n",
              "\n",
              "      async function convertToInteractive(key) {\n",
              "        const element = document.querySelector('#df-cc7ac402-77de-4868-804e-b46444c825f9');\n",
              "        const dataTable =\n",
              "          await google.colab.kernel.invokeFunction('convertToInteractive',\n",
              "                                                    [key], {});\n",
              "        if (!dataTable) return;\n",
              "\n",
              "        const docLinkHtml = 'Like what you see? Visit the ' +\n",
              "          '<a target=\"_blank\" href=https://colab.research.google.com/notebooks/data_table.ipynb>data table notebook</a>'\n",
              "          + ' to learn more about interactive tables.';\n",
              "        element.innerHTML = '';\n",
              "        dataTable['output_type'] = 'display_data';\n",
              "        await google.colab.output.renderOutput(dataTable, element);\n",
              "        const docLink = document.createElement('div');\n",
              "        docLink.innerHTML = docLinkHtml;\n",
              "        element.appendChild(docLink);\n",
              "      }\n",
              "    </script>\n",
              "  </div>\n",
              "\n",
              "\n",
              "<div id=\"df-2e7773fa-b0ed-444d-a5f5-da0603939186\">\n",
              "  <button class=\"colab-df-quickchart\" onclick=\"quickchart('df-2e7773fa-b0ed-444d-a5f5-da0603939186')\"\n",
              "            title=\"Suggest charts\"\n",
              "            style=\"display:none;\">\n",
              "\n",
              "<svg xmlns=\"http://www.w3.org/2000/svg\" height=\"24px\"viewBox=\"0 0 24 24\"\n",
              "     width=\"24px\">\n",
              "    <g>\n",
              "        <path d=\"M19 3H5c-1.1 0-2 .9-2 2v14c0 1.1.9 2 2 2h14c1.1 0 2-.9 2-2V5c0-1.1-.9-2-2-2zM9 17H7v-7h2v7zm4 0h-2V7h2v10zm4 0h-2v-4h2v4z\"/>\n",
              "    </g>\n",
              "</svg>\n",
              "  </button>\n",
              "\n",
              "<style>\n",
              "  .colab-df-quickchart {\n",
              "      --bg-color: #E8F0FE;\n",
              "      --fill-color: #1967D2;\n",
              "      --hover-bg-color: #E2EBFA;\n",
              "      --hover-fill-color: #174EA6;\n",
              "      --disabled-fill-color: #AAA;\n",
              "      --disabled-bg-color: #DDD;\n",
              "  }\n",
              "\n",
              "  [theme=dark] .colab-df-quickchart {\n",
              "      --bg-color: #3B4455;\n",
              "      --fill-color: #D2E3FC;\n",
              "      --hover-bg-color: #434B5C;\n",
              "      --hover-fill-color: #FFFFFF;\n",
              "      --disabled-bg-color: #3B4455;\n",
              "      --disabled-fill-color: #666;\n",
              "  }\n",
              "\n",
              "  .colab-df-quickchart {\n",
              "    background-color: var(--bg-color);\n",
              "    border: none;\n",
              "    border-radius: 50%;\n",
              "    cursor: pointer;\n",
              "    display: none;\n",
              "    fill: var(--fill-color);\n",
              "    height: 32px;\n",
              "    padding: 0;\n",
              "    width: 32px;\n",
              "  }\n",
              "\n",
              "  .colab-df-quickchart:hover {\n",
              "    background-color: var(--hover-bg-color);\n",
              "    box-shadow: 0 1px 2px rgba(60, 64, 67, 0.3), 0 1px 3px 1px rgba(60, 64, 67, 0.15);\n",
              "    fill: var(--button-hover-fill-color);\n",
              "  }\n",
              "\n",
              "  .colab-df-quickchart-complete:disabled,\n",
              "  .colab-df-quickchart-complete:disabled:hover {\n",
              "    background-color: var(--disabled-bg-color);\n",
              "    fill: var(--disabled-fill-color);\n",
              "    box-shadow: none;\n",
              "  }\n",
              "\n",
              "  .colab-df-spinner {\n",
              "    border: 2px solid var(--fill-color);\n",
              "    border-color: transparent;\n",
              "    border-bottom-color: var(--fill-color);\n",
              "    animation:\n",
              "      spin 1s steps(1) infinite;\n",
              "  }\n",
              "\n",
              "  @keyframes spin {\n",
              "    0% {\n",
              "      border-color: transparent;\n",
              "      border-bottom-color: var(--fill-color);\n",
              "      border-left-color: var(--fill-color);\n",
              "    }\n",
              "    20% {\n",
              "      border-color: transparent;\n",
              "      border-left-color: var(--fill-color);\n",
              "      border-top-color: var(--fill-color);\n",
              "    }\n",
              "    30% {\n",
              "      border-color: transparent;\n",
              "      border-left-color: var(--fill-color);\n",
              "      border-top-color: var(--fill-color);\n",
              "      border-right-color: var(--fill-color);\n",
              "    }\n",
              "    40% {\n",
              "      border-color: transparent;\n",
              "      border-right-color: var(--fill-color);\n",
              "      border-top-color: var(--fill-color);\n",
              "    }\n",
              "    60% {\n",
              "      border-color: transparent;\n",
              "      border-right-color: var(--fill-color);\n",
              "    }\n",
              "    80% {\n",
              "      border-color: transparent;\n",
              "      border-right-color: var(--fill-color);\n",
              "      border-bottom-color: var(--fill-color);\n",
              "    }\n",
              "    90% {\n",
              "      border-color: transparent;\n",
              "      border-bottom-color: var(--fill-color);\n",
              "    }\n",
              "  }\n",
              "</style>\n",
              "\n",
              "  <script>\n",
              "    async function quickchart(key) {\n",
              "      const quickchartButtonEl =\n",
              "        document.querySelector('#' + key + ' button');\n",
              "      quickchartButtonEl.disabled = true;  // To prevent multiple clicks.\n",
              "      quickchartButtonEl.classList.add('colab-df-spinner');\n",
              "      try {\n",
              "        const charts = await google.colab.kernel.invokeFunction(\n",
              "            'suggestCharts', [key], {});\n",
              "      } catch (error) {\n",
              "        console.error('Error during call to suggestCharts:', error);\n",
              "      }\n",
              "      quickchartButtonEl.classList.remove('colab-df-spinner');\n",
              "      quickchartButtonEl.classList.add('colab-df-quickchart-complete');\n",
              "    }\n",
              "    (() => {\n",
              "      let quickchartButtonEl =\n",
              "        document.querySelector('#df-2e7773fa-b0ed-444d-a5f5-da0603939186 button');\n",
              "      quickchartButtonEl.style.display =\n",
              "        google.colab.kernel.accessAllowed ? 'block' : 'none';\n",
              "    })();\n",
              "  </script>\n",
              "</div>\n",
              "    </div>\n",
              "  </div>\n"
            ],
            "application/vnd.google.colaboratory.intrinsic+json": {
              "type": "dataframe",
              "variable_name": "df",
              "summary": "{\n  \"name\": \"df\",\n  \"rows\": 24,\n  \"fields\": [\n    {\n      \"column\": \"POSCOMP\",\n      \"properties\": {\n        \"dtype\": \"number\",\n        \"std\": 24,\n        \"min\": 13,\n        \"max\": 98,\n        \"num_unique_values\": 19,\n        \"samples\": [\n          89,\n          57,\n          34\n        ],\n        \"semantic_type\": \"\",\n        \"description\": \"\"\n      }\n    },\n    {\n      \"column\": \"Ingl\\u00eas\",\n      \"properties\": {\n        \"dtype\": \"number\",\n        \"std\": 2,\n        \"min\": 1,\n        \"max\": 10,\n        \"num_unique_values\": 9,\n        \"samples\": [\n          9,\n          5,\n          6\n        ],\n        \"semantic_type\": \"\",\n        \"description\": \"\"\n      }\n    },\n    {\n      \"column\": \"Artigos publicados\",\n      \"properties\": {\n        \"dtype\": \"number\",\n        \"std\": 2,\n        \"min\": 0,\n        \"max\": 11,\n        \"num_unique_values\": 9,\n        \"samples\": [\n          10,\n          1,\n          4\n        ],\n        \"semantic_type\": \"\",\n        \"description\": \"\"\n      }\n    },\n    {\n      \"column\": \"Admitido\",\n      \"properties\": {\n        \"dtype\": \"number\",\n        \"std\": 0,\n        \"min\": 0,\n        \"max\": 1,\n        \"num_unique_values\": 2,\n        \"samples\": [\n          0,\n          1\n        ],\n        \"semantic_type\": \"\",\n        \"description\": \"\"\n      }\n    }\n  ]\n}"
            }
          },
          "metadata": {},
          "execution_count": 2
        }
      ]
    },
    {
      "source": [
        "# @title POSCOMP vs Inglês\n",
        "\n",
        "from matplotlib import pyplot as plt\n",
        "df.plot(kind='scatter', x='POSCOMP', y='Inglês', s=32, alpha=.8)\n",
        "plt.gca().spines[['top', 'right',]].set_visible(False)"
      ],
      "cell_type": "code",
      "execution_count": null,
      "outputs": [
        {
          "output_type": "display_data",
          "data": {
            "text/plain": [
              "<Figure size 640x480 with 1 Axes>"
            ],
            "image/png": "[encoded data removed]"
          },
          "metadata": {}
        }
      ],
      "metadata": {
        "colab": {
          "base_uri": "https://localhost:8080/",
          "height": 449
        },
        "id": "BSKJbnriwubb",
        "outputId": "305bc44c-642d-4f82-bdfb-07b3a9140807"
      }
    },
    {
      "cell_type": "code",
      "source": [
        "X = df[['POSCOMP', 'Inglês','Artigos publicados']]\n",
        "y = df['Admitido']\n",
        "X_train,X_test,y_train,y_test = train_test_split(X,y,test_size=0.25,random_state=0)"
      ],
      "metadata": {
        "id": "jrZ4tT7yCct9"
      },
      "execution_count": null,
      "outputs": []
    },
    {
      "cell_type": "code",
      "source": [
        "logistic_regression= LogisticRegression()\n",
        "logistic_regression.fit(X_train,y_train)\n",
        "y_pred=logistic_regression.predict(X_test)"
      ],
      "metadata": {
        "id": "Qage6Ov-CfXu"
      },
      "execution_count": null,
      "outputs": []
    },
    {
      "cell_type": "code",
      "source": [
        "y_pred"
      ],
      "metadata": {
        "colab": {
          "base_uri": "https://localhost:8080/"
        },
        "id": "JsWwqlhWxfhF",
        "outputId": "531e2e25-b1b0-4900-b822-625ae1b180e7"
      },
      "execution_count": null,
      "outputs": [
        {
          "output_type": "execute_result",
          "data": {
            "text/plain": [
              "array([0, 0, 1, 0, 1, 0])"
            ]
          },
          "metadata": {},
          "execution_count": 9
        }
      ]
    },
    {
      "cell_type": "code",
      "source": [
        "y_test"
      ],
      "metadata": {
        "colab": {
          "base_uri": "https://localhost:8080/"
        },
        "id": "LCM4euOHxlF7",
        "outputId": "be46dc35-3a44-4e99-9ded-8aa76ea0b787"
      },
      "execution_count": null,
      "outputs": [
        {
          "output_type": "execute_result",
          "data": {
            "text/plain": [
              "11    0\n",
              "10    1\n",
              "22    1\n",
              "14    0\n",
              "20    1\n",
              "1     0\n",
              "Name: Admitido, dtype: int64"
            ]
          },
          "metadata": {},
          "execution_count": 10
        }
      ]
    },
    {
      "cell_type": "code",
      "source": [
        "confusion_matrix = pd.crosstab(y_test, y_pred, rownames=['Actual'], colnames=['Predicted'])\n",
        "sn.heatmap(confusion_matrix, annot=True)"
      ],
      "metadata": {
        "colab": {
          "base_uri": "https://localhost:8080/",
          "height": 473
        },
        "id": "7birJH7YCjOd",
        "outputId": "558f44e1-d6cb-4ee5-912d-6c44c7d6cf40"
      },
      "execution_count": null,
      "outputs": [
        {
          "output_type": "execute_result",
          "data": {
            "text/plain": [
              "<Axes: xlabel='Predicted', ylabel='Actual'>"
            ]
          },
          "metadata": {},
          "execution_count": 11
        },
        {
          "output_type": "display_data",
          "data": {
            "text/plain": [
              "<Figure size 640x480 with 2 Axes>"
            ],
            "image/png": "[encoded data removed]"
          },
          "metadata": {}
        }
      ]
    },
    {
      "cell_type": "code",
      "source": [
        "print('Accuracy: ',metrics.accuracy_score(y_test, y_pred))\n",
        "plt.show()"
      ],
      "metadata": {
        "colab": {
          "base_uri": "https://localhost:8080/"
        },
        "id": "9u3giVLkCnRQ",
        "outputId": "76259aae-f697-49f9-e110-75320977ac9e"
      },
      "execution_count": null,
      "outputs": [
        {
          "output_type": "stream",
          "name": "stdout",
          "text": [
            "Accuracy:  0.8333333333333334\n"
          ]
        }
      ]
    },
    {
      "cell_type": "markdown",
      "source": [
        "## Tá, mas o que isso significa?\n",
        "\n",
        "Bom, com todo esse código nós conseguimos prever com 83% de acurácia se você entraria ou não em um programa de pós-graduação baseado nesses parâmetros. Imagine por exemplo que você tirou 65 na POSCOMP, possui um inglês intermediário (6) e 2 artigos publicados."
      ],
      "metadata": {
        "id": "deC4aBHzCqK8"
      }
    },
    {
      "cell_type": "code",
      "source": [
        "teste = {'POSCOMP': 50, 'Inglês': 6, 'Artigos publicados': 2}\n",
        "dft = pd.DataFrame(data = teste,index=[0])\n",
        "print(dft)\n",
        "resultado = logistic_regression.predict(dft)\n",
        "probabilidade = logistic_regression.predict_proba(dft)\n",
        "print(\"Resuldado: \",resultado)\n",
        "print(\"Probabilidade Positiva: \", probabilidade[0][1])"
      ],
      "metadata": {
        "colab": {
          "base_uri": "https://localhost:8080/"
        },
        "id": "UljUY4yPCtPp",
        "outputId": "7c363d49-e7b7-474a-fea1-b3c5006589e0"
      },
      "execution_count": null,
      "outputs": [
        {
          "output_type": "stream",
          "name": "stdout",
          "text": [
            "   POSCOMP  Inglês  Artigos publicados\n",
            "0       50       6                   2\n",
            "Resuldado:  [0]\n",
            "Probabilidade Positiva:  0.018117704055994926\n"
          ]
        }
      ]
    }
  ]
}